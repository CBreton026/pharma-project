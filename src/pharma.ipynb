{
 "cells": [
  {
   "cell_type": "markdown",
   "metadata": {},
   "source": [
    "# Project Pharma: the impacts of producing Lovastatin"
   ]
  },
  {
   "cell_type": "code",
   "execution_count": null,
   "metadata": {},
   "outputs": [],
   "source": [
    "import pandas as pd\n",
    "import numpy as np\n",
    "import matplotlib.pyplot as plt\n",
    "import seaborn as sns\n",
    "import bw2io as bi\n",
    "import bw2calc as bc\n",
    "import bw2data as bd\n",
    "import bw2analyzer as ba\n",
    "import os"
   ]
  },
  {
   "cell_type": "markdown",
   "metadata": {},
   "source": [
    "## Importing and looking at the data"
   ]
  },
  {
   "cell_type": "code",
   "execution_count": null,
   "metadata": {},
   "outputs": [],
   "source": [
    "DATA_DIR = os.path.abspath('..\\data')\n",
    "infile = DATA_DIR + \"\\lci_pharma_dynamic.csv\"\n",
    "\n",
    "df = pd.read_csv(infile, skiprows=1,usecols=[0,1,2,3,15,18])\n",
    "df.columns = [col.lower() for col in df.columns]\n",
    "df = df.rename(columns={\n",
    "    \"time\": \"time_s\",\n",
    "    'q (l/hr)': \"inflow_l_hr\", \n",
    "    'c,la (gr/l)': \"conc_la_gr_l\",  # Lactose\n",
    "    'c,ad  (gr/l)': \"conc_ad_gr_l\",  # Adenosine\n",
    "    'q (l/hr).3': \"outflow_l_hr\",\n",
    "    'c,lov  (gr/l).2': \"conc_lov_gr_l\",  # Lovastatin\n",
    "})\n",
    "df"
   ]
  },
  {
   "cell_type": "code",
   "execution_count": null,
   "metadata": {},
   "outputs": [],
   "source": [
    "# Keep only data where time is an integer (second)\n",
    "df_s = df.loc[df['time_s']%1==0].reset_index(drop=True)\n",
    "df_s = df_s.groupby('time_s').agg('mean')\n",
    "\n",
    "df_s"
   ]
  },
  {
   "cell_type": "code",
   "execution_count": null,
   "metadata": {},
   "outputs": [],
   "source": [
    "df_s.describe()"
   ]
  },
  {
   "cell_type": "code",
   "execution_count": null,
   "metadata": {},
   "outputs": [],
   "source": [
    "# df.iloc[:,1:].plot()\n",
    "df_s.iloc[:,1:].plot()"
   ]
  },
  {
   "cell_type": "code",
   "execution_count": null,
   "metadata": {},
   "outputs": [],
   "source": [
    "# sns.pairplot(df_s.iloc[:,1:])"
   ]
  },
  {
   "cell_type": "markdown",
   "metadata": {},
   "source": [
    "## First steps in LCA\n",
    "From ChatGPT, it takes between 0.5 to 5 kWh per kilogram."
   ]
  },
  {
   "cell_type": "code",
   "execution_count": null,
   "metadata": {},
   "outputs": [],
   "source": [
    "# Set the seed for reproducibility\n",
    "SEED = 42\n",
    "SIZE = 1000\n",
    "ELEC_CONS = 5  # kWh/kg\n",
    "\n",
    "# # Create a random number generator with the specified seed\n",
    "# rng = np.random.default_rng(SEED)\n",
    "\n",
    "# # Define the parameters for the triangular distribution\n",
    "# lower_bound = 0.5\n",
    "# mode = 2.5\n",
    "# upper_bound = 5\n",
    "\n",
    "# # Generate a triangular distribution sample using the rng instance\n",
    "# triangular_sample = rng.triangular(lower_bound, mode, upper_bound, SIZE)\n",
    "\n",
    "# # Print the first 10 values of the sample to verify\n",
    "# print(triangular_sample[:10])"
   ]
  },
  {
   "cell_type": "code",
   "execution_count": null,
   "metadata": {},
   "outputs": [],
   "source": [
    "df_s[\"inflow_la_kg_hr\"] = df_s[\"inflow_l_hr\"] * df_s[\"conc_la_gr_l\"] / 1e3\n",
    "df_s[\"inflow_ad_kg_hr\"] = df_s[\"inflow_l_hr\"] * df_s[\"conc_ad_gr_l\"] / 1e3\n",
    "df_s[\"outflow_lov_kg_hr\"] = df_s[\"outflow_l_hr\"] * df_s[\"conc_lov_gr_l\"] / 1e3\n",
    "df_s[\"electricity\"] = df_s[\"outflow_lov_kg_hr\"] * ELEC_CONS\n",
    "df_s"
   ]
  },
  {
   "cell_type": "markdown",
   "metadata": {},
   "source": [
    "## Setting up Brightway\n",
    "This process might change based on everyone's installed Brightway projects, so I'll comment it out but leave it as an example."
   ]
  },
  {
   "cell_type": "code",
   "execution_count": null,
   "metadata": {},
   "outputs": [],
   "source": [
    "SEED_DATABASE = \"new_project\"  # TODO: replace with any name of database containing virgin copy of ecoinvent 3.10\n",
    "\n",
    "if 'pharma' not in [project.name for project in list(bd.projects)]:\n",
    "    bd.projects.set_current(SEED_DATABASE)\n",
    "    bd.projects.copy_project('pharma', switch=True)\n",
    "else:\n",
    "    bd.projects.set_current('pharma')\n",
    "\n",
    "bd.databases"
   ]
  },
  {
   "cell_type": "code",
   "execution_count": null,
   "metadata": {},
   "outputs": [],
   "source": [
    "imp = bi.ExcelImporter(DATA_DIR+\"\\pharma_database_ab.xlsx\")\n",
    "imp.apply_strategies()\n",
    "imp.match_database(\"ecoinvent-3.10-cutoff\", fields=('name','unit','location'))\n",
    "imp.statistics()\n"
   ]
  },
  {
   "cell_type": "markdown",
   "metadata": {},
   "source": [
    "There was an issue when first importing aminopyridine production, because there was a name change betwen 3.91 and 3.10 from aminopyridine to aminopyridine production."
   ]
  },
  {
   "cell_type": "code",
   "execution_count": null,
   "metadata": {},
   "outputs": [],
   "source": [
    "[u for u in imp.unlinked]"
   ]
  },
  {
   "cell_type": "code",
   "execution_count": null,
   "metadata": {},
   "outputs": [],
   "source": [
    "# From the tutorials\\brightway\\2 - Data IO & contribution analyses.ipynb file,\n",
    "migration = {\n",
    "    \"fields\": [\"name\", \"reference product\", \"location\", \"categories\"],\n",
    "    \"data\": [\n",
    "        (\n",
    "            (\"chichibabin amination\", \"aminopyridine\", \"ROW\", None),\n",
    "            {\n",
    "                \"name\":\"aminopyridine production, Chichibabin amination\",\n",
    "                \"location\": \"ROW\"},\n",
    "        ),\n",
    "    ],\n",
    "}"
   ]
  },
  {
   "cell_type": "code",
   "execution_count": null,
   "metadata": {},
   "outputs": [],
   "source": [
    "bi.Migration(name=\"ei3.91-3.10\").write(data=migration, description=\"ei 3.91 to 3.10\")"
   ]
  },
  {
   "cell_type": "code",
   "execution_count": null,
   "metadata": {},
   "outputs": [],
   "source": [
    "\"ei3.91-3.10\" in bi.migrations"
   ]
  },
  {
   "cell_type": "code",
   "execution_count": null,
   "metadata": {},
   "outputs": [],
   "source": [
    "bi.Migration(\"ei3.91-3.10\")"
   ]
  },
  {
   "cell_type": "code",
   "execution_count": null,
   "metadata": {},
   "outputs": [],
   "source": [
    "# Apply the migration\n",
    "imp.data = bi.strategies.migrate_exchanges(\n",
    "    db=imp.data,\n",
    "    migration=\"ei3.91-3.10\"\n",
    ")"
   ]
  },
  {
   "cell_type": "code",
   "execution_count": null,
   "metadata": {},
   "outputs": [],
   "source": [
    "imp.match_database(\"ecoinvent-3.10-cutoff\", fields=('name', 'reference product', 'unit', 'location'))\n",
    "imp.match_database(\"biosphere3\", fields=('name', 'unit', 'categories'))\n",
    "imp.statistics()"
   ]
  },
  {
   "cell_type": "code",
   "execution_count": null,
   "metadata": {},
   "outputs": [],
   "source": [
    "if len(list(imp.unlinked)) == 0:\n",
    "    imp.write_database()"
   ]
  },
  {
   "cell_type": "code",
   "execution_count": null,
   "metadata": {},
   "outputs": [],
   "source": [
    "bd.databases"
   ]
  },
  {
   "cell_type": "code",
   "execution_count": null,
   "metadata": {},
   "outputs": [],
   "source": [
    "db = bd.Database(\"Showcase\")"
   ]
  },
  {
   "cell_type": "code",
   "execution_count": null,
   "metadata": {},
   "outputs": [],
   "source": [
    "# let's list the datasets in our new database \"carbon fiber\"\n",
    "[a[\"name\"] for a in db]"
   ]
  },
  {
   "cell_type": "code",
   "execution_count": null,
   "metadata": {},
   "outputs": [],
   "source": [
    "# Different ways to check for methods\n",
    "# [method for method in bd.methods if \"ipcc 2021\" in method[0].lower() and \"gwp100\" in method[2].lower() and \"land use\" not in method[1].lower()]\n",
    "filtered_methods = [\n",
    "    method for method in bd.methods\n",
    "    if \"recipe\" in method[0].lower()\n",
    "    and \"midpoint\" in method[0].lower()\n",
    "    and \"h\" in method[0].lower()\n",
    "    and any(keyword in method[1].lower() for keyword in [\"water use\", \"climate change\", \"energy resources\", \"material resources\"])\n",
    "] #if (\"water use\" or \"climate change\" or \"energy resources\" or \"material resources\") in method[1].lower()]  #  and \"total\" in method[1].lower() and \"h\" in method[0].lower()\n",
    "# ('ReCiPe 2016 v1.03, midpoint (H) no LT', 'climate change no LT', 'global warming potential (GWP100) no LT'),\n",
    "# ('ReCiPe 2016 v1.03, midpoint (H) no LT',\n",
    "#   'water use no LT',\n",
    "#   'water consumption potential (WCP) no LT'),\n",
    "\n",
    "methods = filtered_methods[4:]"
   ]
  },
  {
   "cell_type": "code",
   "execution_count": null,
   "metadata": {},
   "outputs": [],
   "source": [
    "activity = db.search('Lovastatin')[0]"
   ]
  },
  {
   "cell_type": "code",
   "execution_count": null,
   "metadata": {},
   "outputs": [],
   "source": [
    "method = ('IPCC 2021', 'climate change', 'global warming potential (GWP100)')\n",
    "try: \n",
    "    lca = bc.LCA({activity:1}, method)  # FIXME: check *methods\n",
    "    lca.lci()\n",
    "    lca.lcia()\n",
    "    lca.score\n",
    "except AssertionError as err:\n",
    "    print(err)\n",
    "    # There was an issue where the methods were from EI3.91\n",
    "    # bd.projects.migrate_project_25()\n"
   ]
  },
  {
   "cell_type": "code",
   "execution_count": null,
   "metadata": {},
   "outputs": [],
   "source": [
    "# Contribution analysis: processes\n",
    "pd.DataFrame(\n",
    "    [(x, y, z[\"name\"]) for x, y, z in ba.ContributionAnalysis().annotated_top_processes(lca=lca)],\n",
    "    columns=[\"score\", \"quantity\", \"name\"]\n",
    ")"
   ]
  },
  {
   "cell_type": "code",
   "execution_count": null,
   "metadata": {},
   "outputs": [],
   "source": [
    "# Contribution analysis: elementary flows\n",
    "pd.DataFrame(\n",
    "    [(x, y, z[\"name\"]) for x, y, z in ba.ContributionAnalysis().annotated_top_emissions(lca=lca)],\n",
    "    columns=[\"score\", \"quantity\", \"name\"]\n",
    ")"
   ]
  },
  {
   "cell_type": "code",
   "execution_count": null,
   "metadata": {},
   "outputs": [],
   "source": [
    "from polyviz import treemap\n",
    "from polyviz import sankey\n",
    "\n",
    "SAVE_PATH = os.path.abspath(\"..\") + r\"\\results\"\n",
    "SAVE_PATH"
   ]
  },
  {
   "cell_type": "code",
   "execution_count": null,
   "metadata": {},
   "outputs": [],
   "source": [
    "treemap(\n",
    "    activity=activity,\n",
    "    method=method,\n",
    "    filepath=SAVE_PATH+\"\\\\treemap.html\",\n",
    ")  # uses the graph traversal approach\n"
   ]
  },
  {
   "cell_type": "code",
   "execution_count": null,
   "metadata": {},
   "outputs": [],
   "source": [
    "_, df = sankey(\n",
    "    activity=activity,\n",
    "    level=3,\n",
    "    cutoff=0.05,\n",
    "    method=method,\n",
    "    filepath=SAVE_PATH+\"\\\\sankey.html\",\n",
    "    labels_swap={\n",
    "        \"carbon fiber\": \"cf.\",\n",
    "        \"production\": \"prod.\"\n",
    "    }\n",
    ")"
   ]
  },
  {
   "cell_type": "markdown",
   "metadata": {},
   "source": [
    "## Adding temporal backgroud"
   ]
  },
  {
   "cell_type": "code",
   "execution_count": null,
   "metadata": {},
   "outputs": [],
   "source": [
    "from bw_temporalis import easy_timedelta_distribution, easy_datetime_distribution, TemporalisLCA, Timeline, TemporalDistribution\n",
    "from bw_temporalis.lcia import characterize_methane, characterize_co2\n",
    "import bw_graph_tools as graph\n"
   ]
  },
  {
   "cell_type": "code",
   "execution_count": null,
   "metadata": {},
   "outputs": [],
   "source": [
    "df_s[\"outflow_lov_kg_hr\"].plot()"
   ]
  },
  {
   "cell_type": "code",
   "execution_count": null,
   "metadata": {},
   "outputs": [],
   "source": [
    "# Check that the cumulative sum is a good approximation of the integral\n",
    "print(250 * (0.030+0.028) / 2)\n",
    "df_s[\"outflow_lov_kg_hr\"].transform('cumsum').loc[250]\n",
    "\n",
    "# Take the last value of the cumulative sum as the integral\n",
    "total_amount_per_cycle = df_s[\"outflow_lov_kg_hr\"].transform('cumsum').to_numpy()[-1]\n",
    "total_amount_per_cycle"
   ]
  },
  {
   "cell_type": "code",
   "execution_count": null,
   "metadata": {},
   "outputs": [],
   "source": [
    "(df_s[\"outflow_lov_kg_hr\"]/total_amount_per_cycle).plot()"
   ]
  },
  {
   "cell_type": "code",
   "execution_count": null,
   "metadata": {},
   "outputs": [],
   "source": [
    "# To make for a more interesting case, assume that the data in seconds is in minutes; cut it so that it sums up to a full day of production; assume each day is a new cycle\n",
    "min_per_day = 24*60\n",
    "\n",
    "a = TemporalDistribution(\n",
    "    date=np.array(df_s.loc[0:min_per_day,:].index, dtype='timedelta64[m]'),  # `M` is months\n",
    "    amount = np.array((df_s.loc[0:min_per_day,\"outflow_lov_kg_hr\"]/total_amount_per_cycle))  # (df_s[\"outflow_lov_kg_hr\"]/total_amount_per_cycle)\n",
    ")\n",
    "\n",
    "a.graph()  # resolution='s'"
   ]
  },
  {
   "cell_type": "code",
   "execution_count": null,
   "metadata": {},
   "outputs": [],
   "source": [
    "# Test timeline\n",
    "b = TemporalDistribution(\n",
    "    date=np.array([1,2,3,4,5], 'timedelta64[D]'),\n",
    "    amount=(np.ones(5)/5),\n",
    ")\n",
    "\n",
    "print(a * b)\n",
    "\n",
    "(a * b).graph()\n",
    "# plt.xlim([0,200])\n",
    "\n",
    "# plt.ylim([0,0.00080])"
   ]
  },
  {
   "cell_type": "code",
   "execution_count": null,
   "metadata": {},
   "outputs": [],
   "source": [
    "activity = db.get((db.search('Lovastatin')[0]).as_dict()['code'])\n",
    "activity"
   ]
  },
  {
   "cell_type": "code",
   "execution_count": null,
   "metadata": {},
   "outputs": [],
   "source": [
    "exchanges = list(activity.exchanges())\n",
    "exchanges"
   ]
  },
  {
   "cell_type": "code",
   "execution_count": null,
   "metadata": {},
   "outputs": [],
   "source": [
    "bd.databases"
   ]
  },
  {
   "cell_type": "code",
   "execution_count": null,
   "metadata": {},
   "outputs": [],
   "source": [
    "lovastatin_exchange = [exc for exc in db.search('Lovastatin')[0].exchanges() if \"lovastatin\" in exc[\"name\"].lower()][0]\n",
    "\n",
    "# lovastatin_exchange.as_dict()\n",
    "lovastatin_exchange['TemporalDistribution'] = a\n",
    "lovastatin_exchange.save()\n",
    "\n",
    "lovastatin_exchange.as_dict()\n",
    "\n",
    "# print([exc for exc in activity.exchanges()][0].as_dict())"
   ]
  },
  {
   "cell_type": "markdown",
   "metadata": {},
   "source": [
    "Nice! We saved a temporal distribution."
   ]
  },
  {
   "cell_type": "code",
   "execution_count": null,
   "metadata": {},
   "outputs": [],
   "source": [
    "lca2 = bc.LCA({activity:1}, method)\n",
    "lca2.lci()\n",
    "lca2.lcia()\n",
    "\n",
    "# start temporalis\n",
    "lca2 = TemporalisLCA(lca2)\n",
    "\n",
    "# build timeline\n",
    "tl = lca2.build_timeline()\n",
    "tl.build_dataframe()"
   ]
  },
  {
   "cell_type": "code",
   "execution_count": null,
   "metadata": {},
   "outputs": [],
   "source": [
    "bd.get_node(id=107)"
   ]
  },
  {
   "cell_type": "code",
   "execution_count": null,
   "metadata": {},
   "outputs": [],
   "source": [
    "tl.df.plot(x='date', y='amount', kind='scatter')"
   ]
  },
  {
   "cell_type": "code",
   "execution_count": null,
   "metadata": {},
   "outputs": [],
   "source": [
    "a.graph(resolution=\"s\")"
   ]
  },
  {
   "cell_type": "code",
   "execution_count": null,
   "metadata": {},
   "outputs": [],
   "source": [
    "tl.build_dataframe()#.pivot(index=['date','activity'], columns=['flow'], values=['amount'])"
   ]
  },
  {
   "cell_type": "code",
   "execution_count": null,
   "metadata": {},
   "outputs": [],
   "source": [
    "fig, ax = plt.subplots()\n",
    "sns.scatterplot(\n",
    "    data=tl.build_dataframe(),\n",
    "    x='date',\n",
    "    y='amount',\n",
    "    hue='flow',\n",
    "    ax=ax\n",
    ")\n",
    "\n",
    "# h, l = "
   ]
  },
  {
   "cell_type": "code",
   "execution_count": null,
   "metadata": {},
   "outputs": [],
   "source": [
    "print(\"technosphere:\")\n",
    "for exc in activity.technosphere():\n",
    "    print(exc)\n",
    "print(\"biosphere:\")\n",
    "for exc in activity.biosphere():\n",
    "    print(exc)\n",
    "print(\"production:\")\n",
    "for exc in activity.production():\n",
    "    print(exc)"
   ]
  },
  {
   "cell_type": "code",
   "execution_count": null,
   "metadata": {},
   "outputs": [],
   "source": [
    "TemporalDistribution?"
   ]
  },
  {
   "cell_type": "code",
   "execution_count": null,
   "metadata": {},
   "outputs": [],
   "source": [
    "np.array(df_s.index, dtype='datetime64[s]')"
   ]
  },
  {
   "cell_type": "code",
   "execution_count": null,
   "metadata": {},
   "outputs": [],
   "source": [
    "print(np.array([0,1,2,3,4], 'timedelta64[h]').shape)\n",
    "print((np.ones(5)/5).shape)"
   ]
  }
 ],
 "metadata": {
  "kernelspec": {
   "display_name": "pharma",
   "language": "python",
   "name": "python3"
  },
  "language_info": {
   "codemirror_mode": {
    "name": "ipython",
    "version": 3
   },
   "file_extension": ".py",
   "mimetype": "text/x-python",
   "name": "python",
   "nbconvert_exporter": "python",
   "pygments_lexer": "ipython3",
   "version": "3.11.10"
  }
 },
 "nbformat": 4,
 "nbformat_minor": 2
}
